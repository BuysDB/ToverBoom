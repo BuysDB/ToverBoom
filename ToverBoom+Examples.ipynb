{
 "cells": [
  {
   "cell_type": "code",
   "execution_count": 3,
   "metadata": {},
   "outputs": [
    {
     "ename": "ModuleNotFoundError",
     "evalue": "No module named 'toverboom'",
     "output_type": "error",
     "traceback": [
      "\u001b[0;31m---------------------------------------------------------------------------\u001b[0m",
      "\u001b[0;31mModuleNotFoundError\u001b[0m                       Traceback (most recent call last)",
      "\u001b[0;32m<ipython-input-3-832f1728c7ce>\u001b[0m in \u001b[0;36m<module>\u001b[0;34m\u001b[0m\n\u001b[1;32m      7\u001b[0m \u001b[0;32mimport\u001b[0m \u001b[0mmatplotlib\u001b[0m\u001b[0;34m.\u001b[0m\u001b[0mpyplot\u001b[0m \u001b[0;32mas\u001b[0m \u001b[0mplt\u001b[0m\u001b[0;34m\u001b[0m\u001b[0;34m\u001b[0m\u001b[0m\n\u001b[1;32m      8\u001b[0m \u001b[0;32mimport\u001b[0m \u001b[0mnetworkx\u001b[0m \u001b[0;32mas\u001b[0m \u001b[0mnx\u001b[0m\u001b[0;34m\u001b[0m\u001b[0;34m\u001b[0m\u001b[0m\n\u001b[0;32m----> 9\u001b[0;31m \u001b[0;32mimport\u001b[0m \u001b[0mtoverboom\u001b[0m\u001b[0;34m\u001b[0m\u001b[0;34m\u001b[0m\u001b[0m\n\u001b[0m\u001b[1;32m     10\u001b[0m \u001b[0;32mimport\u001b[0m \u001b[0mtoverboom\u001b[0m\u001b[0;34m.\u001b[0m\u001b[0mlineageGraph\u001b[0m\u001b[0;34m\u001b[0m\u001b[0;34m\u001b[0m\u001b[0m\n\u001b[1;32m     11\u001b[0m \u001b[0;32mimport\u001b[0m \u001b[0mtoverboom\u001b[0m\u001b[0;34m.\u001b[0m\u001b[0moptimizeLayout\u001b[0m\u001b[0;34m\u001b[0m\u001b[0;34m\u001b[0m\u001b[0m\n",
      "\u001b[0;31mModuleNotFoundError\u001b[0m: No module named 'toverboom'"
     ]
    }
   ],
   "source": [
    "%matplotlib notebook\n",
    "\n",
    "from matplotlib import rcParams\n",
    "# Set the font of the plots:\n",
    "rcParams['font.family'] = 'Helvetica'\n",
    "rcParams['font.sans-serif'] = ['Helvetica']\n",
    "import matplotlib.pyplot as plt\n",
    "import networkx as nx\n",
    "import toverboom\n",
    "import toverboom.lineageGraph\n",
    "import toverboom.optimizeLayout\n",
    "import toverboom.preprocessing\n",
    "import pandas as pd\n",
    "\n",
    "# Development:\n",
    "import importlib\n",
    "importlib.reload(toverboom)\n",
    "importlib.reload(toverboom.lineageGraph)\n",
    "importlib.reload(toverboom.preprocessing)\n",
    "importlib.reload(toverboom.optimizeLayout)"
   ]
  },
  {
   "cell_type": "code",
   "execution_count": null,
   "metadata": {},
   "outputs": [],
   "source": [
    "# Load the graph file into a networkx graph\n",
    "graph = nx.read_graphml(f'../data/APKS1_CNV_tree.graphml')\n",
    "graph = toverboom.preprocessing.convertFromStringKeys(graph)"
   ]
  },
  {
   "cell_type": "code",
   "execution_count": null,
   "metadata": {},
   "outputs": [],
   "source": [
    "# Instantiate the lineage graph object\n",
    "lg = toverboom.lineageGraph.LineageGraph(graph)\n",
    "\n",
    "# Create a figure for our plot:\n",
    "fig, ax = plt.subplots()\n",
    "\n",
    "# Find the best layout\n",
    "toverboom.optimizeLayout.optimize_layout(lg,visualize_progress_ax=ax, visualize_progress_fig=fig)"
   ]
  },
  {
   "cell_type": "code",
   "execution_count": null,
   "metadata": {},
   "outputs": [],
   "source": [
    "# Plot the polygons of the tree\n",
    "fig, ax = plt.subplots()\n",
    "\n",
    "# wavyness controls how wavy the segments of the tree are \n",
    "wavyness=0.4\n",
    "# xDistance controls the stretch in the x direction \n",
    "lg.xDistance=10\n",
    "lg.verticalSpacing = 0.1\n",
    "\n",
    "lg.plotEdges(ax, bezier=True,wavyness=wavyness,stepCount=30,plotArgs={'linewidth':1}, offsetCentroid=True)\n",
    "lg.plotPatches(ax=ax,wavyness=wavyness)\n",
    "\n",
    "# Remove plot spines:\n",
    "toverboom.lineageGraph.despine(ax)\n",
    "# Scale labels to plot size:\n",
    "toverboom.lineageGraph.format_x_axis_labels(ax)\n",
    "\n",
    "# Add labels to the clones:\n",
    "lg.annotateNodes(ax,plotArgs={'size':8})\n",
    "\n",
    "fig.canvas.draw()"
   ]
  },
  {
   "cell_type": "markdown",
   "metadata": {},
   "source": [
    "## Plot single cells on top of the tree\n",
    "\n",
    "First construct a matrix where the single cells are described\n",
    "Required columns are:\n",
    "```\n",
    "tp : timepoint where the cell was measured\n",
    "cluster: to what cluster/clone does the cell belong\n",
    "```\n",
    "Optional columns are:\n",
    "```\n",
    "size : plotted size of the cell\n",
    "marker : marker \n",
    "color  : color of the marker\n",
    "edge_width : thickness of marker edge\n",
    "edge_color : color of the edge of the marker\n",
    "label : label of the cell\n",
    "x : x offset of the cell\n",
    "y : y offset of the cell\n",
    "z-order : rendering position (z-index) of the cell\n",
    "```"
   ]
  },
  {
   "cell_type": "code",
   "execution_count": null,
   "metadata": {},
   "outputs": [],
   "source": [
    "# Load example data:\n",
    "replicate = 'APKS1'\n",
    "cellBarcodes = pd.read_pickle('../data/cellToBarcode.pickle').loc[replicate]\n",
    "cellCnv = pd.read_pickle('../data/singleCellCNVClustering.pickle.gz').loc[replicate]\n",
    "cellData = cellCnv\n",
    "\n",
    "#### Contruct a dataframe with cell data\n",
    "\n",
    "# Assign colors:\n",
    "cellData['color'] = [{\n",
    "    3:'r', 16:'r', 20:'r' ,\n",
    "    5:'c',  21:'c',\n",
    "    2:'orange'}.get(cluster,'grey') for cluster in cellData['cluster'] ]\n",
    "\n",
    "# Assign passage:\n",
    "cellData['tp'] = [passage for passage, plate, cell in list(cellData.index)]\n",
    "\n",
    "# Assign sizes\n",
    "cellData['size'] = [100 if cluster==2 else 60 for cluster in cellData['cluster'] ]\n",
    "\n",
    "# Assign markers\n",
    "cellData['marker'] = [{3:'s', 5:'s', 1:'*'}.get(cluster,'.') for cluster in cellData['cluster'] ]\n",
    "\n",
    "# Assign edge width\n",
    "cellData['edge_width'] = [1.5 if cluster==2 else 1 for cluster in cellData['cluster'] ]\n",
    "\n",
    "# Assign order of plotting\n",
    "cellData['z-order'] = [1 if cluster==5 else 0 for cluster in cellData['cluster'] ]\n",
    "\n",
    "cellData.head()"
   ]
  },
  {
   "cell_type": "code",
   "execution_count": null,
   "metadata": {
    "scrolled": false
   },
   "outputs": [],
   "source": [
    "lg.plotSingleCells(cellData,plotPatches=True,enableShadow=True)\n",
    "ax = plt.gca()\n",
    "# Add labels to the clones:\n",
    "lg.annotateNodes(ax,plotArgs={'size':9}, \n",
    "                 # Use the nodesToAnnotate argument to select which nodes to annotate\n",
    "                 nodesToAnnotate=[\n",
    "                     (cluster,tp)\n",
    "                      for cluster,tp in lg.graph if cluster in [1,4,3,5,2,8]],\n",
    "                 x_offset = 8 # How much to move the labels to the right\n",
    "                )\n",
    "\n",
    "# Add vertical lines to indicate sampled timepoints\n",
    "lg.plot_vertical_lines(ax, cellData['tp'].unique(), c='red')\n",
    "ax.set_xlabel('Time [weeks]')\n"
   ]
  },
  {
   "cell_type": "code",
   "execution_count": null,
   "metadata": {},
   "outputs": [],
   "source": [
    "# Defining X/Y offset for cells\n",
    "cellData"
   ]
  },
  {
   "cell_type": "markdown",
   "metadata": {},
   "source": [
    "## Color the tree patches\n",
    "\n",
    "First construct a dataframe where the patches are described\n",
    "The patches are EDGES of your graph, they are defined by 4 values:\n",
    "starting clone, starting timepoint\n",
    "ending clone, ending timepoint\n",
    "\n",
    "```\n",
    "fromTp : timepoint \n",
    "fromCluster: cluster\n",
    "toTp : timepoint \n",
    "toCluster: cluster\n",
    "```\n",
    "\n",
    "All valid matplotlib colors can be used such as: \n",
    "``` 'green','r',(1,0,0), (1,0,0,0.5)``` \n",
    "\n",
    "To obtain which edges you can color run this command:\n",
    "``` list(lg.graph.edges())```"
   ]
  },
  {
   "cell_type": "code",
   "execution_count": null,
   "metadata": {},
   "outputs": [],
   "source": [
    "patchData =  pd.DataFrame(\n",
    "    {\n",
    "        ((2, 10), (3, 22)):{'color':'red', #patch fill is red\n",
    "                            'edgecolor':'k', # edge is black\n",
    "                            'linewidth':2, # edge is 2 pixels\n",
    "                            'linestyle':'-', # Draw a filled edge\n",
    "                            'zorder':50 # Put this patch in front\n",
    "                           },\n",
    "        ((2, 10), (5, 22)):{'color':(0,0.5,0),'zorder':1  },\n",
    "        ((2, 10), (2, 22)):{'color':(0,0.5,0),'edgecolor':'white','zorder':1 },\n",
    "        ((0, 0), (2, 10)):{'color':(0,0.5,0),'edgecolor':'white','zorder':1 }\n",
    "    }).T\n",
    "patchData['linewidth'].fillna(0, inplace=True)\n",
    "patchData"
   ]
  },
  {
   "cell_type": "code",
   "execution_count": null,
   "metadata": {},
   "outputs": [],
   "source": [
    "fig,ax = plt.subplots()\n",
    "# Make plot scale the right way by plotting invisible edges:\n",
    "lg.plotEdges(ax,plotArgs={'linewidth':0})\n",
    "\n",
    "#Plot the patches using the matrix we just made\n",
    "lg.plotPatches(ax,\n",
    "               facecolor=(1,1,1), # Default face color, \n",
    "                               #None to not plot patches not \n",
    "                               # described in patchData\n",
    "               linestyle='--',\n",
    "               linewidth=0.5,\n",
    "               zorder=0,\n",
    "               edgecolor='grey',\n",
    "               patchData=patchData)\n",
    "\n",
    "# Remove plot spines:\n",
    "toverboom.lineageGraph.despine(ax)\n",
    "# Scale labels to plot size:\n",
    "toverboom.lineageGraph.format_x_axis_labels(ax)\n",
    "\n",
    "fig.canvas.draw()"
   ]
  },
  {
   "cell_type": "code",
   "execution_count": null,
   "metadata": {},
   "outputs": [],
   "source": []
  }
 ],
 "metadata": {
  "kernelspec": {
   "display_name": "Python 3",
   "language": "python",
   "name": "python3"
  },
  "language_info": {
   "codemirror_mode": {
    "name": "ipython",
    "version": 3
   },
   "file_extension": ".py",
   "mimetype": "text/x-python",
   "name": "python",
   "nbconvert_exporter": "python",
   "pygments_lexer": "ipython3",
   "version": "3.6.8"
  }
 },
 "nbformat": 4,
 "nbformat_minor": 2
}
