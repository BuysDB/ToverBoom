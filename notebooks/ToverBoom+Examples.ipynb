{
 "cells": [
  {
   "cell_type": "code",
   "execution_count": 1,
   "metadata": {},
   "outputs": [
    {
     "data": {
      "text/plain": [
       "<module 'toverboom.optimizeLayout' from '/media/sf_internalTools/toverBoom/toverboom/optimizeLayout.py'>"
      ]
     },
     "execution_count": 1,
     "metadata": {},
     "output_type": "execute_result"
    }
   ],
   "source": [
    "%matplotlib notebook\n",
    "\n",
    "from matplotlib import rcParams\n",
    "# Set the font of the plots:\n",
    "rcParams['font.family'] = 'Helvetica'\n",
    "rcParams['font.sans-serif'] = ['Helvetica']\n",
    "\n",
    "import matplotlib.pyplot as plt\n",
    "import networkx as nx\n",
    "import toverboom\n",
    "import toverboom.lineageGraph\n",
    "import toverboom.optimizeLayout\n",
    "import toverboom.preprocessing\n",
    "\n",
    "# Development:\n",
    "import importlib\n",
    "importlib.reload(toverboom)\n",
    "importlib.reload(toverboom.lineageGraph)\n",
    "importlib.reload(toverboom.preprocessing)\n",
    "importlib.reload(toverboom.optimizeLayout)"
   ]
  },
  {
   "cell_type": "code",
   "execution_count": 2,
   "metadata": {},
   "outputs": [
    {
     "ename": "FileNotFoundError",
     "evalue": "[Errno 2] No such file or directory: '../nla-organoids/tables/APKS1_CNV_tree.graphml'",
     "output_type": "error",
     "traceback": [
      "\u001b[0;31m---------------------------------------------------------------------------\u001b[0m",
      "\u001b[0;31mFileNotFoundError\u001b[0m                         Traceback (most recent call last)",
      "\u001b[0;32m<ipython-input-2-223a343e9181>\u001b[0m in \u001b[0;36m<module>\u001b[0;34m()\u001b[0m\n\u001b[1;32m      1\u001b[0m \u001b[0;31m# Load the graph file into a networkx graph\u001b[0m\u001b[0;34m\u001b[0m\u001b[0;34m\u001b[0m\u001b[0;34m\u001b[0m\u001b[0m\n\u001b[0;32m----> 2\u001b[0;31m \u001b[0mgraph\u001b[0m \u001b[0;34m=\u001b[0m \u001b[0mnx\u001b[0m\u001b[0;34m.\u001b[0m\u001b[0mread_graphml\u001b[0m\u001b[0;34m(\u001b[0m\u001b[0;34mf'../nla-organoids/tables/APKS1_CNV_tree.graphml'\u001b[0m\u001b[0;34m)\u001b[0m\u001b[0;34m\u001b[0m\u001b[0;34m\u001b[0m\u001b[0m\n\u001b[0m\u001b[1;32m      3\u001b[0m \u001b[0mgraph\u001b[0m \u001b[0;34m=\u001b[0m \u001b[0mtoverboom\u001b[0m\u001b[0;34m.\u001b[0m\u001b[0mpreprocessing\u001b[0m\u001b[0;34m.\u001b[0m\u001b[0mconvertFromStringKeys\u001b[0m\u001b[0;34m(\u001b[0m\u001b[0mgraph\u001b[0m\u001b[0;34m)\u001b[0m\u001b[0;34m\u001b[0m\u001b[0;34m\u001b[0m\u001b[0m\n",
      "\u001b[0;32m</home/buysdb/anaconda3/lib/python3.6/site-packages/decorator.py:decorator-gen-750>\u001b[0m in \u001b[0;36mread_graphml\u001b[0;34m(path, node_type, edge_key_type)\u001b[0m\n",
      "\u001b[0;32m~/anaconda3/lib/python3.6/site-packages/networkx/utils/decorators.py\u001b[0m in \u001b[0;36m_open_file\u001b[0;34m(func_to_be_decorated, *args, **kwargs)\u001b[0m\n\u001b[1;32m    212\u001b[0m         \u001b[0;32mif\u001b[0m \u001b[0mis_string_like\u001b[0m\u001b[0;34m(\u001b[0m\u001b[0mpath\u001b[0m\u001b[0;34m)\u001b[0m\u001b[0;34m:\u001b[0m\u001b[0;34m\u001b[0m\u001b[0;34m\u001b[0m\u001b[0m\n\u001b[1;32m    213\u001b[0m             \u001b[0mext\u001b[0m \u001b[0;34m=\u001b[0m \u001b[0msplitext\u001b[0m\u001b[0;34m(\u001b[0m\u001b[0mpath\u001b[0m\u001b[0;34m)\u001b[0m\u001b[0;34m[\u001b[0m\u001b[0;36m1\u001b[0m\u001b[0;34m]\u001b[0m\u001b[0;34m\u001b[0m\u001b[0;34m\u001b[0m\u001b[0m\n\u001b[0;32m--> 214\u001b[0;31m             \u001b[0mfobj\u001b[0m \u001b[0;34m=\u001b[0m \u001b[0m_dispatch_dict\u001b[0m\u001b[0;34m[\u001b[0m\u001b[0mext\u001b[0m\u001b[0;34m]\u001b[0m\u001b[0;34m(\u001b[0m\u001b[0mpath\u001b[0m\u001b[0;34m,\u001b[0m \u001b[0mmode\u001b[0m\u001b[0;34m=\u001b[0m\u001b[0mmode\u001b[0m\u001b[0;34m)\u001b[0m\u001b[0;34m\u001b[0m\u001b[0;34m\u001b[0m\u001b[0m\n\u001b[0m\u001b[1;32m    215\u001b[0m             \u001b[0mclose_fobj\u001b[0m \u001b[0;34m=\u001b[0m \u001b[0;32mTrue\u001b[0m\u001b[0;34m\u001b[0m\u001b[0;34m\u001b[0m\u001b[0m\n\u001b[1;32m    216\u001b[0m         \u001b[0;32melif\u001b[0m \u001b[0mhasattr\u001b[0m\u001b[0;34m(\u001b[0m\u001b[0mpath\u001b[0m\u001b[0;34m,\u001b[0m \u001b[0;34m'read'\u001b[0m\u001b[0;34m)\u001b[0m\u001b[0;34m:\u001b[0m\u001b[0;34m\u001b[0m\u001b[0;34m\u001b[0m\u001b[0m\n",
      "\u001b[0;31mFileNotFoundError\u001b[0m: [Errno 2] No such file or directory: '../nla-organoids/tables/APKS1_CNV_tree.graphml'"
     ]
    }
   ],
   "source": [
    "# Load the graph file into a networkx graph\n",
    "graph = nx.read_graphml(f'../data/APKS1_CNV_tree.graphml')\n",
    "graph = toverboom.preprocessing.convertFromStringKeys(graph)"
   ]
  },
  {
   "cell_type": "code",
   "execution_count": null,
   "metadata": {},
   "outputs": [],
   "source": [
    "# Instantiate the lineage graph object\n",
    "lg = toverboom.lineageGraph.LineageGraph(graph)\n",
    "\n",
    "# Create a figure for our plot:\n",
    "fig, ax = plt.subplots()\n",
    "\n",
    "# Find the best layout\n",
    "toverboom.optimizeLayout.optimize_layout(lg,visualize_progress_ax=ax, visualize_progress_fig=fig)"
   ]
  },
  {
   "cell_type": "code",
   "execution_count": null,
   "metadata": {},
   "outputs": [],
   "source": [
    "# Plot the polygons of the tree\n",
    "fig, ax = plt.subplots()\n",
    "\n",
    "wavyness=0.4\n",
    "lg.xDistance=10\n",
    "lg.verticalSpacing = 0.2\n",
    "\n",
    "lg.plotEdges(ax, bezier=True,wavyness=wavyness,stepCount=30,plotArgs={'lw':1}, offsetCentroid=True)\n",
    "lg.plotPatches(ax=ax,wavyness=wavyness)\n",
    "\n",
    "# Remove plot spines:\n",
    "toverboom.lineageGraph.despine(ax)\n",
    "# Scale labels to plot size:\n",
    "toverboom.lineageGraph.format_x_axis_labels(ax)\n",
    "\n",
    "fig.canvas.draw()"
   ]
  },
  {
   "cell_type": "markdown",
   "metadata": {},
   "source": [
    "## Plot single cells on top of the tree\n",
    "\n",
    "First construct a matrix where the single cells are described\n",
    "Required columns are:\n",
    "```\n",
    "tp : timepoint where the cell was measured\n",
    "cluster: to what cluster/clone does the cell belong\n",
    "```\n",
    "Optional columns are:\n",
    "```\n",
    "size : plotted size of the cell\n",
    "marker : marker \n",
    "color  : color of the marker\n",
    "```"
   ]
  },
  {
   "cell_type": "code",
   "execution_count": null,
   "metadata": {},
   "outputs": [],
   "source": [
    "# Load example data:\n",
    "replicate = 'APKS1'\n",
    "cellBarcodes = pd.read_pickle('../data/cellToBarcode.pickle').loc[replicate]\n",
    "cellCnv = pd.read_pickle('../data/singleCellCNVClustering.pickle.gz').loc[replicate]\n",
    "cellData = cellCnv\n",
    "\n",
    "#### Contruct a dataframe with cell data\n",
    "\n",
    "# Assing colors:\n",
    "cellData['color'] = [{\n",
    "    3:'r', 16:'r', 20:'r' ,\n",
    "    5:'c',  21:'c',\n",
    "    2:'orange'}.get(cluster,'grey') for cluster in cellData['cluster'] ]\n",
    "\n",
    "# Assign passage:\n",
    "cellData['tp'] = [passage for passage, plate, cell in list(cellData.index)]\n",
    "\n",
    "# Assign sizes\n",
    "cellData['size'] = [40 if cluster==2 else 20 for cluster in cellData['cluster'] ]\n",
    "\n",
    "# Assign markers\n",
    "cellData['marker'] = [{3:'+', 5:'+', 1:'*'}.get(cluster,'.') for cluster in cellData['cluster'] ]\n",
    "\n",
    "cellData.head()"
   ]
  },
  {
   "cell_type": "code",
   "execution_count": null,
   "metadata": {},
   "outputs": [],
   "source": [
    "lg.plotSingleCells(cellData)"
   ]
  },
  {
   "cell_type": "code",
   "execution_count": null,
   "metadata": {},
   "outputs": [],
   "source": [
    "lg.graph"
   ]
  },
  {
   "cell_type": "code",
   "execution_count": null,
   "metadata": {
    "collapsed": true
   },
   "outputs": [],
   "source": [
    "## Color the tree patches\n",
    "\n",
    "First construct a dataframe where the patches are described\n",
    "```\n",
    "tp : timepoint where the cell was measured\n",
    "cluster: to what cluster/clone does the cell belong\n",
    "```\n",
    "Optional columns are:\n",
    "```\n",
    "size : plotted size of the cell\n",
    "marker : marker \n",
    "color  : color of the marker\n",
    "```"
   ]
  }
 ],
 "metadata": {
  "kernelspec": {
   "display_name": "Python 3",
   "language": "python",
   "name": "python3"
  },
  "language_info": {
   "codemirror_mode": {
    "name": "ipython",
    "version": 3
   },
   "file_extension": ".py",
   "mimetype": "text/x-python",
   "name": "python",
   "nbconvert_exporter": "python",
   "pygments_lexer": "ipython3",
   "version": "3.6.8"
  }
 },
 "nbformat": 4,
 "nbformat_minor": 2
}
